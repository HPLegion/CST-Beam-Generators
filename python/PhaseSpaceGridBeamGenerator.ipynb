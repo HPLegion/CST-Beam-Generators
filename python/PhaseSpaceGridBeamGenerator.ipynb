{
 "cells": [
  {
   "cell_type": "markdown",
   "metadata": {},
   "source": [
    "# Phase Space Grid Beam Generator\n",
    "This script generates 3 individual beams sampling\n",
    "* real space\n",
    "* x phase space\n",
    "* y phase space\n",
    "\n",
    "respectively in the shape of a regular grid."
   ]
  },
  {
   "cell_type": "markdown",
   "metadata": {},
   "source": [
    "## General Setup"
   ]
  },
  {
   "cell_type": "markdown",
   "metadata": {},
   "source": [
    "### Imports and Settings"
   ]
  },
  {
   "cell_type": "code",
   "execution_count": 1,
   "metadata": {},
   "outputs": [],
   "source": [
    "import numpy as np\n",
    "from scipy import constants\n",
    "import matplotlib.pyplot as plt\n",
    "import os.path\n",
    "%matplotlib inline"
   ]
  },
  {
   "cell_type": "markdown",
   "metadata": {},
   "source": [
    "### Physical Constants"
   ]
  },
  {
   "cell_type": "code",
   "execution_count": 2,
   "metadata": {},
   "outputs": [],
   "source": [
    "### Natural Constants in SI units\n",
    "M_P = constants.proton_mass\n",
    "Q_E = constants.elementary_charge\n",
    "C = constants.speed_of_light"
   ]
  },
  {
   "cell_type": "markdown",
   "metadata": {},
   "source": [
    "***\n",
    "## Parameters (*User Input*)"
   ]
  },
  {
   "cell_type": "markdown",
   "metadata": {},
   "source": [
    "### Grid Points"
   ]
  },
  {
   "cell_type": "code",
   "execution_count": 3,
   "metadata": {},
   "outputs": [],
   "source": [
    "### Real Space Grid Points\n",
    "rs_x = np.linspace(-10,10,21) # x in mm\n",
    "rs_y = np.linspace(-10,10,21) # y in mm\n",
    "\n",
    "### x Phase Space Grid Points\n",
    "psx_x = np.linspace(-10,10,21) # x in mm\n",
    "psx_xp = np.linspace(-10,10,21) # x' in mrad\n",
    "\n",
    "### y Phase Space Grid Points\n",
    "psy_y = np.linspace(-10,10,21) # y in mm\n",
    "psy_yp = np.linspace(-10,10,21) # y' in mrad"
   ]
  },
  {
   "cell_type": "markdown",
   "metadata": {},
   "source": [
    "### General Beam Parameters"
   ]
  },
  {
   "cell_type": "code",
   "execution_count": 4,
   "metadata": {},
   "outputs": [
    {
     "name": "stdout",
     "output_type": "stream",
     "text": [
      "Particle Charge = 9.613059724800001e-19 kg = 6.0 m_p\n",
      "Particle Mass = 2.0071462776000003e-26 kg = 12.0 m_p\n",
      "Kinetic Energy = 2.88391791744e-14 J = 180000.0 eV\n",
      "Starting Position z0 = 0.1 m = 100.0 mm\n"
     ]
    }
   ],
   "source": [
    "### Particle Parameters\n",
    "q = 6 * Q_E # particle charge in C\n",
    "m = 12 * M_P # particle mass in kg\n",
    "i_t = 1 # in A \"trajectory current\" expected by CST (for space charge)\n",
    "\n",
    "\n",
    "### Beam parameters\n",
    "u = 30000 # in V (acceleration potential)\n",
    "e_kin = u * q # kinetic energy in J\n",
    "z0 = 0.1 # z position of xy starting plane\n",
    "\n",
    "### User Feedback\n",
    "print('Particle Charge = ' + str(q) + ' kg = ' + str(q/Q_E) + ' m_p')\n",
    "print('Particle Mass = ' + str(m) + ' kg = ' + str(m/M_P) + ' m_p')\n",
    "print('Kinetic Energy = ' + str(e_kin) + ' J = ' + str(e_kin/Q_E) + ' eV')\n",
    "print('Starting Position z0 = ' + str(z0) + ' m = ' + str(z0*1000) + ' mm')"
   ]
  },
  {
   "cell_type": "markdown",
   "metadata": {},
   "source": [
    "***\n",
    "## Convert Inputs"
   ]
  },
  {
   "cell_type": "code",
   "execution_count": 5,
   "metadata": {},
   "outputs": [],
   "source": [
    "rs_x /= 1000 # to m \n",
    "rs_y /= 1000 # to m \n",
    "psx_x /= 1000 # to m \n",
    "psx_xp /= 1000 # to rad \n",
    "psy_y /= 1000 # to m \n",
    "psy_yp /= 1000 # to rad "
   ]
  },
  {
   "cell_type": "markdown",
   "metadata": {},
   "source": [
    "## Compute Momentum (CST Style)"
   ]
  },
  {
   "cell_type": "code",
   "execution_count": 6,
   "metadata": {},
   "outputs": [],
   "source": [
    "e_tot = e_kin + m * C**2 # Relativistic total energy\n",
    "# p0_si = np.sqrt(2*m*e_kin) # Non relativistic approximation\n",
    "p0_si = 1/C * np.sqrt(e_tot**2 - (m * C**2)**2) # Relativistically correct momentum\n",
    "p0_cst = p0_si / m / C # Absolute Momentum as used in CST (relativistic beta * gamma)"
   ]
  },
  {
   "cell_type": "markdown",
   "metadata": {},
   "source": [
    "***\n",
    "## Create Particle Definitions"
   ]
  },
  {
   "cell_type": "markdown",
   "metadata": {},
   "source": [
    "### Real Space"
   ]
  },
  {
   "cell_type": "code",
   "execution_count": 7,
   "metadata": {},
   "outputs": [],
   "source": [
    "### x and y coordinate list\n",
    "o_rs_x, o_rs_y = np.meshgrid(rs_x, rs_y) # create x y grid\n",
    "o_rs_x = o_rs_x.flatten() # flatten x grid\n",
    "o_rs_y = o_rs_y.flatten() # flatten y grid\n",
    "\n",
    "### remaining parameters\n",
    "n = o_rs_x.size # get number of grid points\n",
    "o_rs_z = z0 * np.ones(n) # z position\n",
    "o_rs_px_cst = np.zeros(n) # x momentum (cst-style)\n",
    "o_rs_py_cst = np.zeros(n) # y momentum (cst-style)\n",
    "o_rs_pz_cst = p0_cst * np.ones(n) # z momentum (cst-style)\n",
    "o_rs_m = m * np.ones(n) # mass\n",
    "o_rs_q = q * np.ones(n) # charge\n",
    "o_rs_i_t = i_t * np.ones(n) # trajectroy current\n",
    "\n",
    "### Output Matrix\n",
    "output_rs = np.column_stack([o_rs_x, o_rs_y, o_rs_z,\n",
    "                           o_rs_px_cst, o_rs_py_cst, o_rs_pz_cst,\n",
    "                           o_rs_m, o_rs_q, o_rs_i_t])"
   ]
  },
  {
   "cell_type": "markdown",
   "metadata": {},
   "source": [
    "### x Phase Space"
   ]
  },
  {
   "cell_type": "code",
   "execution_count": 8,
   "metadata": {},
   "outputs": [],
   "source": [
    "### x and x' coordinate list\n",
    "o_psx_x, o_psx_xp = np.meshgrid(psx_x, psx_xp) # create x x' grid\n",
    "o_psx_x = o_psx_x.flatten() # flatten x grid\n",
    "o_psx_xp = o_psx_xp.flatten() # flatten x' grid\n",
    "\n",
    "### compute momenta\n",
    "o_psx_pz_cst = p0_cst / np.sqrt(1-np.tan(o_psx_xp)**2) # z momentum (cst-style)\n",
    "o_psx_px_cst = o_psx_pz_cst * np.tan(o_psx_xp) # x momentum (cst-style)\n",
    "\n",
    "### remaining parameters\n",
    "n = o_psx_x.size # get number of grid points\n",
    "o_psx_y = np.zeros(n) # z position\n",
    "o_psx_z = z0 * np.ones(n) # z position\n",
    "o_psx_py_cst = np.zeros(n) # y momentum (cst-style)\n",
    "o_psx_m = m * np.ones(n) # mass\n",
    "o_psx_q = q * np.ones(n) # charge\n",
    "o_psx_i_t = i_t * np.ones(n) # trajectroy current\n",
    "\n",
    "### Output Matrix\n",
    "output_psx = np.column_stack([o_psx_x, o_psx_y, o_psx_z,\n",
    "                           o_psx_px_cst, o_psx_py_cst, o_psx_pz_cst,\n",
    "                           o_psx_m, o_psx_q, o_psx_i_t])"
   ]
  },
  {
   "cell_type": "markdown",
   "metadata": {},
   "source": [
    "### y Phase Space"
   ]
  },
  {
   "cell_type": "code",
   "execution_count": 9,
   "metadata": {},
   "outputs": [],
   "source": [
    "### y and y' coordinate list\n",
    "o_psy_y, o_psy_yp = np.meshgrid(psy_y, psy_yp) # create x x' grid\n",
    "o_psy_y = o_psy_y.flatten() # flatten x grid\n",
    "o_psy_yp = o_psy_yp.flatten() # flatten x' grid\n",
    "\n",
    "### compute momenta\n",
    "o_psy_pz_cst = p0_cst / np.sqrt(1-np.tan(o_psy_yp)**2) # z momentum (cst-style)\n",
    "o_psy_py_cst = o_psy_pz_cst * np.tan(o_psy_yp) # y momentum (cst-style)\n",
    "\n",
    "### remaining parameters\n",
    "n = o_psy_y.size # get number of grid points\n",
    "o_psy_x = np.zeros(n) # z position\n",
    "o_psy_z = z0 * np.ones(n) # z position\n",
    "o_psy_px_cst = np.zeros(n) # x momentum (cst-style)\n",
    "o_psy_m = m * np.ones(n) # mass\n",
    "o_psy_q = q * np.ones(n) # charge\n",
    "o_psy_i_t = i_t * np.ones(n) # trajectroy current\n",
    "\n",
    "### Output Matrix\n",
    "output_psy = np.column_stack([o_psy_x, o_psy_y, o_psy_z,\n",
    "                           o_psy_px_cst, o_psy_py_cst, o_psy_pz_cst,\n",
    "                           o_psy_m, o_psy_q, o_psy_i_t])"
   ]
  },
  {
   "cell_type": "markdown",
   "metadata": {},
   "source": [
    "***\n",
    "## Plots for a rough check"
   ]
  },
  {
   "cell_type": "markdown",
   "metadata": {},
   "source": [
    "### Real Space"
   ]
  },
  {
   "cell_type": "code",
   "execution_count": 10,
   "metadata": {},
   "outputs": [
    {
     "data": {
      "image/png": "[encoded data removed]",
      "text/plain": [
       "<matplotlib.figure.Figure at 0x1f635ac30b8>"
      ]
     },
     "metadata": {},
     "output_type": "display_data"
    }
   ],
   "source": [
    "plt.plot(output_rs[:,0], output_rs[:,1],'x')\n",
    "plt.xlabel('x (m)')\n",
    "plt.ylabel('y (m)')\n",
    "plt.title('Real Space Grid')\n",
    "plt.show()"
   ]
  },
  {
   "cell_type": "markdown",
   "metadata": {},
   "source": [
    "### x Phase Space"
   ]
  },
  {
   "cell_type": "code",
   "execution_count": 11,
   "metadata": {},
   "outputs": [
    {
     "data": {
      "image/png": "[encoded data removed]",
      "text/plain": [
       "<matplotlib.figure.Figure at 0x1f636010b00>"
      ]
     },
     "metadata": {},
     "output_type": "display_data"
    }
   ],
   "source": [
    "plt.plot(output_rs[:,0], np.arctan2(output_psx[:,3],output_psx[:,5]),'x')\n",
    "plt.xlabel('x (m)')\n",
    "plt.ylabel('x\\' (rad)')\n",
    "plt.title('x Phase Space Grid')\n",
    "plt.show()"
   ]
  },
  {
   "cell_type": "markdown",
   "metadata": {},
   "source": [
    "### y Phase Space"
   ]
  },
  {
   "cell_type": "code",
   "execution_count": 12,
   "metadata": {},
   "outputs": [
    {
     "data": {
      "image/png": "[encoded data removed]",
      "text/plain": [
       "<matplotlib.figure.Figure at 0x1f636222400>"
      ]
     },
     "metadata": {},
     "output_type": "display_data"
    }
   ],
   "source": [
    "plt.plot(output_rs[:,0], np.arctan2(output_psy[:,4],output_psy[:,5]),'x')\n",
    "plt.xlabel('y (m)')\n",
    "plt.ylabel('y\\' (rad)')\n",
    "plt.title('y Phase Space Grid')\n",
    "plt.show()"
   ]
  },
  {
   "cell_type": "markdown",
   "metadata": {},
   "source": [
    "***\n",
    "## File Export"
   ]
  },
  {
   "cell_type": "code",
   "execution_count": 13,
   "metadata": {},
   "outputs": [
    {
     "name": "stdout",
     "output_type": "stream",
     "text": [
      "realspace-beam.pid saved!\n",
      "yphasespace-beam.pid saved!\n",
      "yphasespace-beam.pid saved!\n"
     ]
    }
   ],
   "source": [
    "### Filenames\n",
    "rs_fname = 'realspace-beam.pid'\n",
    "psx_fname = 'xphasespace-beam.pid'\n",
    "psy_fname = 'yphasespace-beam.pid'\n",
    "\n",
    "header_string = \"\"\"--------------------------------------------------\n",
    "SI units\n",
    "The momentum (mom) is equivalent to beta * gamma.\n",
    "--------------------------------------------------\n",
    "Columns: pos_x  pos_y  pos_z  mom_x  mom_y  mom_z  mass  charge  current \n",
    "--------------------------------------------------\n",
    "\"\"\"\n",
    "\n",
    "### Save Real Space\n",
    "if not os.path.isfile(rs_fname):\n",
    "    rs_header = 'Real Space Grid Beam \\n' + header_string\n",
    "    np.savetxt(rs_fname, output_rs, delimiter=' ', fmt='%e', header = rs_header, comments='%')\n",
    "    print(rs_fname + ' saved!')\n",
    "else:\n",
    "    print('Did not save, ' + rs_fname + ' already exists!')\n",
    "\n",
    "### Save x Phase Space\n",
    "if not os.path.isfile(psx_fname):\n",
    "    psx_header = 'x Phase Space Grid Beam \\n' + header_string\n",
    "    np.savetxt(psx_fname, output_psx, delimiter=' ', fmt='%e', header = psx_header, comments='%')\n",
    "    print(psy_fname + ' saved!')\n",
    "else:\n",
    "    print('Did not save, ' + psx_fname + ' already exists!')\n",
    "\n",
    "### Save y Phase Space\n",
    "if not os.path.isfile(psy_fname):\n",
    "    psy_header = 'y Phase Space Grid Beam \\n' + header_string\n",
    "    np.savetxt(psy_fname, output_psy, delimiter=' ', fmt='%e', header = psy_header, comments='%')\n",
    "    print(psy_fname + ' saved!')\n",
    "else:\n",
    "    print('Did not save, ' + psy_fname + ' already exists!')"
   ]
  },
  {
   "cell_type": "markdown",
   "metadata": {},
   "source": [
    "# EOF\n",
    "***"
   ]
  },
  {
   "cell_type": "code",
   "execution_count": null,
   "metadata": {},
   "outputs": [],
   "source": []
  },
  {
   "cell_type": "code",
   "execution_count": null,
   "metadata": {},
   "outputs": [],
   "source": []
  }
 ],
 "metadata": {
  "kernelspec": {
   "display_name": "Python 3",
   "language": "python",
   "name": "python3"
  },
  "language_info": {
   "codemirror_mode": {
    "name": "ipython",
    "version": 3
   },
   "file_extension": ".py",
   "mimetype": "text/x-python",
   "name": "python",
   "nbconvert_exporter": "python",
   "pygments_lexer": "ipython3",
   "version": "3.6.2"
  }
 },
 "nbformat": 4,
 "nbformat_minor": 2
}
